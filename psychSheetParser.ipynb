{
 "cells": [
  {
   "cell_type": "code",
   "execution_count": 1,
   "id": "0ef7f502",
   "metadata": {},
   "outputs": [],
   "source": [
    "import pandas as pd\n",
    "import numpy as np\n",
    "import pdfplumber as pf"
   ]
  },
  {
   "cell_type": "code",
   "execution_count": 2,
   "id": "f70386ba",
   "metadata": {},
   "outputs": [],
   "source": [
    "scores = {\n",
    "    '1' : 20, \n",
    "    '2' : 17, \n",
    "    '3' : 16, \n",
    "    '4' : 15, \n",
    "    '5' : 14,\n",
    "    '6' : 13,\n",
    "    '7' : 12,\n",
    "    '8' : 11,\n",
    "    '9' : 9,\n",
    "    '10' : 7,\n",
    "    '11' : 6,\n",
    "    '12' : 5,\n",
    "    '13' : 4,\n",
    "    '14' : 3,\n",
    "    '15' : 2,\n",
    "    '16' : 1\n",
    "}"
   ]
  },
  {
   "cell_type": "code",
   "execution_count": 3,
   "id": "43f83ff1",
   "metadata": {},
   "outputs": [],
   "source": [
    "psych_sheet = pf.open('di-men-championships-psych-sheet-updated-3-13-25-Copy1.pdf')"
   ]
  },
  {
   "cell_type": "code",
   "execution_count": 4,
   "id": "81520650",
   "metadata": {},
   "outputs": [],
   "source": [
    "def get_line_locs(column, page_center, page):\n",
    "    locs = []\n",
    "    if (column=='left'):\n",
    "        for item in page.filter(lambda obj : obj['x0'] < page_center).chars:\n",
    "            locs.append(item['y0'])\n",
    "    if (column=='right'):\n",
    "        for item in page.filter(lambda obj : obj['x0'] > page_center).chars:\n",
    "            locs.append(item['y0'])\n",
    "    locs = list(set(locs))\n",
    "    locs.sort(reverse=True)\n",
    "    return locs"
   ]
  },
  {
   "cell_type": "code",
   "execution_count": 5,
   "id": "97fe1bc2",
   "metadata": {},
   "outputs": [],
   "source": [
    "def line_to_text(column, line_loc, page_center, page):\n",
    "    text = \"\"\n",
    "    found_comma = False\n",
    "    count = 0\n",
    "    was_numeric = False\n",
    "    if column=='right':\n",
    "        for item in page.filter( lambda obj : ((obj['y0']==loc)&(obj['x0']>page_center)) ).chars:\n",
    "            if (item['text'].isnumeric()):\n",
    "                was_numeric = True\n",
    "                text = text + str(item['text'])\n",
    "            elif (was_numeric&(not item['text'].isnumeric())):\n",
    "                was_numeric = False\n",
    "                text = text + '|' + str(item['text'])\n",
    "            else:\n",
    "                text = text + str(item['text'])\n",
    "            if (item['text']==','):\n",
    "                found_comma = True\n",
    "            if (found_comma):\n",
    "                count = count+1\n",
    "                if (count==3):\n",
    "                    break\n",
    "    if column=='left':\n",
    "        for item in page.filter( lambda obj : ((obj['y0']==loc)&(obj['x0']<page_center)) ).chars:\n",
    "            if (item['text'].isnumeric()):\n",
    "                was_numeric = True\n",
    "                text = text + str(item['text'])\n",
    "            elif (was_numeric&(not item['text'].isnumeric())):\n",
    "                was_numeric = False\n",
    "                text = text + '|' + str(item['text'])\n",
    "            else:\n",
    "                text = text + str(item['text'])\n",
    "            if (item['text']==','):\n",
    "                found_comma = True\n",
    "            if (found_comma):\n",
    "                count = count+1\n",
    "                if (count==3):\n",
    "                    break\n",
    "    return text"
   ]
  },
  {
   "cell_type": "code",
   "execution_count": 6,
   "id": "50ca9aad",
   "metadata": {
    "scrolled": true
   },
   "outputs": [],
   "source": [
    "scorers = {}\n",
    "doc = psych_sheet\n",
    "page_center = 292.183557472\n",
    "column_values = ['left', 'right']\n",
    "for page in doc.pages:\n",
    "    for column in column_values:\n",
    "        locs = get_line_locs(column, page_center, page)\n",
    "        for loc in locs:\n",
    "            #parsing this column of the pdf into text lines. place and name will be delimited by a pipe\n",
    "            text = line_to_text(column, loc, page_center, page)\n",
    "            #print(text)\n",
    "\n",
    "            #filling the scorers dictionary using the line of text\n",
    "            line = text.split('|')\n",
    "            place = line[0]\n",
    "            if (place.isnumeric()):\n",
    "                if (int(place)<17):\n",
    "                    name = line[1]\n",
    "                    if name in scorers.keys():\n",
    "                        scorers[name] += scores[place]\n",
    "                    else:\n",
    "                        scorers[name] = scores[place]"
   ]
  },
  {
   "cell_type": "code",
   "execution_count": 7,
   "id": "84df9826",
   "metadata": {},
   "outputs": [],
   "source": [
    "psych_sheet.close()"
   ]
  },
  {
   "cell_type": "code",
   "execution_count": 12,
   "id": "9ef675df",
   "metadata": {},
   "outputs": [],
   "source": [
    "scorers_df = pd.DataFrame(data={'name' : list(scorers.keys())[1:], 'score' : list(scorers.values())[1:]})\n",
    "\n",
    "scorers_df.sort_values(by='score', ascending=False, inplace=True)\n",
    "scorers_df.reset_index(drop=True, inplace=True)\n",
    "\n",
    "scorers_df.to_csv('draft_board.csv')"
   ]
  }
 ],
 "metadata": {
  "kernelspec": {
   "display_name": "Python 3",
   "language": "python",
   "name": "python3"
  },
  "language_info": {
   "codemirror_mode": {
    "name": "ipython",
    "version": 3
   },
   "file_extension": ".py",
   "mimetype": "text/x-python",
   "name": "python",
   "nbconvert_exporter": "python",
   "pygments_lexer": "ipython3",
   "version": "3.9.5"
  }
 },
 "nbformat": 4,
 "nbformat_minor": 5
}
